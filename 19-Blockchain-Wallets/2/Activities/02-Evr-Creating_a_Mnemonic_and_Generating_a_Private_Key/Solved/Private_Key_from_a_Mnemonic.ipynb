{
 "cells": [
  {
   "cell_type": "code",
   "execution_count": 3,
   "metadata": {},
   "outputs": [
    {
     "name": "stdout",
     "output_type": "stream",
     "text": [
      "Collecting python-dotenv\n",
      "  Using cached python_dotenv-0.21.0-py3-none-any.whl (18 kB)\n",
      "Installing collected packages: python-dotenv\n",
      "Successfully installed python-dotenv-0.21.0\n"
     ]
    }
   ],
   "source": [
    "!pip install python-dotenv"
   ]
  },
  {
   "cell_type": "code",
   "execution_count": 5,
   "metadata": {},
   "outputs": [
    {
     "name": "stdout",
     "output_type": "stream",
     "text": [
      "Collecting mnemonic\n",
      "  Downloading mnemonic-0.20-py3-none-any.whl (62 kB)\n",
      "Installing collected packages: mnemonic\n",
      "Successfully installed mnemonic-0.20\n"
     ]
    }
   ],
   "source": [
    "!pip install mnemonic"
   ]
  },
  {
   "cell_type": "code",
   "execution_count": 7,
   "metadata": {},
   "outputs": [
    {
     "name": "stdout",
     "output_type": "stream",
     "text": [
      "Collecting bip44\n",
      "  Downloading bip44-0.1.3-py3-none-any.whl (5.0 kB)\n",
      "Requirement already satisfied: pycryptodome<4.0.0,>=3.16.0 in c:\\users\\desig\\anaconda3\\envs\\dev\\lib\\site-packages (from bip44) (3.16.0)\n",
      "Requirement already satisfied: mnemonic<0.21,>=0.20 in c:\\users\\desig\\anaconda3\\envs\\dev\\lib\\site-packages (from bip44) (0.20)\n",
      "Collecting bip32<4.0,>=3.1\n",
      "  Downloading bip32-3.4-py3-none-any.whl (10 kB)\n",
      "Requirement already satisfied: base58~=2.0 in c:\\users\\desig\\anaconda3\\envs\\dev\\lib\\site-packages (from bip32<4.0,>=3.1->bip44) (2.1.1)\n",
      "Collecting coincurve<19,>=15.0\n",
      "  Downloading coincurve-18.0.0-py3-none-win_amd64.whl (1.4 MB)\n",
      "Requirement already satisfied: cffi>=1.3.0 in c:\\users\\desig\\anaconda3\\envs\\dev\\lib\\site-packages (from coincurve<19,>=15.0->bip32<4.0,>=3.1->bip44) (1.15.0)\n",
      "Collecting asn1crypto\n",
      "  Downloading asn1crypto-1.5.1-py2.py3-none-any.whl (105 kB)\n",
      "Requirement already satisfied: pycparser in c:\\users\\desig\\anaconda3\\envs\\dev\\lib\\site-packages (from cffi>=1.3.0->coincurve<19,>=15.0->bip32<4.0,>=3.1->bip44) (2.21)\n",
      "Installing collected packages: asn1crypto, coincurve, bip32, bip44\n",
      "Successfully installed asn1crypto-1.5.1 bip32-3.4 bip44-0.1.3 coincurve-18.0.0\n"
     ]
    }
   ],
   "source": [
    "!pip install bip44"
   ]
  },
  {
   "cell_type": "code",
   "execution_count": 8,
   "metadata": {},
   "outputs": [],
   "source": [
    "# Imports\n",
    "import os\n",
    "from dotenv import load_dotenv\n",
    "load_dotenv()\n",
    "from mnemonic import Mnemonic\n",
    "from bip44 import Wallet\n",
    "from web3 import Account"
   ]
  },
  {
   "cell_type": "code",
   "execution_count": 9,
   "metadata": {},
   "outputs": [
    {
     "data": {
      "text/plain": [
       "'empower tuna noodle reject outdoor apart lazy vicious uncover zone fruit quarter'"
      ]
     },
     "metadata": {},
     "output_type": "display_data"
    }
   ],
   "source": [
    "# Load the value of the MNEMONIC variable from the .env file\n",
    "mnemonic = os.getenv(\"MNEMONIC\")\n",
    "\n",
    "# Evaluate the contents of the mnemonic variable\n",
    "# Create a new mnemonic seed phrase if the value of mnemonic equals None\n",
    "if mnemonic is None:\n",
    "  mnemo = Mnemonic(\"english\")   \n",
    "  mnemonic = mnemo.generate(strength=128)\n",
    "\n",
    "# Display the value of the mnemonic variable\n",
    "display(mnemonic)"
   ]
  },
  {
   "cell_type": "code",
   "execution_count": 10,
   "metadata": {},
   "outputs": [
    {
     "data": {
      "text/plain": [
       "<bip44.wallet.Wallet at 0x1bff78cfd88>"
      ]
     },
     "execution_count": 10,
     "metadata": {},
     "output_type": "execute_result"
    }
   ],
   "source": [
    "wallet = Wallet(mnemonic)\n",
    "wallet"
   ]
  },
  {
   "cell_type": "code",
   "execution_count": 11,
   "metadata": {},
   "outputs": [
    {
     "data": {
      "text/plain": [
       "b'\\xb1\\x07\\xe0\\xb8\\xf9\\x18\\x86\\xf7\\xc0\\xd9\\xaeJ\\x96\\x17\\xa2O\\x05\\xab\\xc2\\xd5\\x87\\xd5,(e\\x14~\\x10\\x80ZQy'"
      ]
     },
     "execution_count": 11,
     "metadata": {},
     "output_type": "execute_result"
    }
   ],
   "source": [
    "# Create the public and private keys associated with a new Ethereum account\n",
    "private, public = wallet.derive_account(\"eth\")\n",
    "\n",
    "# Display the private key\n",
    "private"
   ]
  },
  {
   "cell_type": "code",
   "execution_count": 12,
   "metadata": {},
   "outputs": [],
   "source": [
    "account = Account.privateKeyToAccount(private)"
   ]
  },
  {
   "cell_type": "code",
   "execution_count": 13,
   "metadata": {},
   "outputs": [
    {
     "name": "stdout",
     "output_type": "stream",
     "text": [
      "<eth_account.signers.local.LocalAccount object at 0x000001BFF6E52808>\n"
     ]
    }
   ],
   "source": [
    "print(account)"
   ]
  },
  {
   "cell_type": "code",
   "execution_count": 14,
   "metadata": {},
   "outputs": [
    {
     "name": "stdout",
     "output_type": "stream",
     "text": [
      "0x352feBe61fCA38166aEFdD0b939c98409Cd07f8b\n"
     ]
    }
   ],
   "source": [
    "print(account.address)"
   ]
  },
  {
   "cell_type": "code",
   "execution_count": 15,
   "metadata": {},
   "outputs": [
    {
     "data": {
      "text/plain": [
       "HexBytes('0xb107e0b8f91886f7c0d9ae4a9617a24f05abc2d587d52c2865147e10805a5179')"
      ]
     },
     "execution_count": 15,
     "metadata": {},
     "output_type": "execute_result"
    }
   ],
   "source": [
    "account.privateKey"
   ]
  },
  {
   "cell_type": "code",
   "execution_count": null,
   "metadata": {},
   "outputs": [],
   "source": []
  },
  {
   "cell_type": "code",
   "execution_count": null,
   "metadata": {},
   "outputs": [],
   "source": []
  },
  {
   "cell_type": "code",
   "execution_count": null,
   "metadata": {},
   "outputs": [],
   "source": []
  }
 ],
 "metadata": {
  "kernelspec": {
   "display_name": "Python 3 (ipykernel)",
   "language": "python",
   "name": "python3"
  },
  "language_info": {
   "codemirror_mode": {
    "name": "ipython",
    "version": 3
   },
   "file_extension": ".py",
   "mimetype": "text/x-python",
   "name": "python",
   "nbconvert_exporter": "python",
   "pygments_lexer": "ipython3",
   "version": "3.7.13"
  }
 },
 "nbformat": 4,
 "nbformat_minor": 4
}
