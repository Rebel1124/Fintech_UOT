{
 "cells": [
  {
   "cell_type": "markdown",
   "metadata": {},
   "source": [
    "# Picture Perfect\n",
    "\n",
    "Still in your role as a data analyst for a video streaming service, you have now been asked by your manager to compare and contrast the revenue numbers by quarter for the various international regions.\n",
    "\n",
    "Be sure to consult the [HvPlot Customization](https://hvplot.holoviz.org/user_guide/Customization.html) page for additional opportunities of aesthetic improvement."
   ]
  },
  {
   "cell_type": "code",
   "execution_count": 1,
   "metadata": {},
   "outputs": [
    {
     "ename": "ModuleNotFoundError",
     "evalue": "No module named 'hvplot'",
     "output_type": "error",
     "traceback": [
      "\u001b[1;31m---------------------------------------------------------------------------\u001b[0m",
      "\u001b[1;31mModuleNotFoundError\u001b[0m                       Traceback (most recent call last)",
      "\u001b[1;32m~\\AppData\\Local\\Temp/ipykernel_13388/1797718845.py\u001b[0m in \u001b[0;36m<module>\u001b[1;34m\u001b[0m\n\u001b[0;32m      1\u001b[0m \u001b[1;31m# Import the required libraries and dependencies\u001b[0m\u001b[1;33m\u001b[0m\u001b[1;33m\u001b[0m\u001b[0m\n\u001b[0;32m      2\u001b[0m \u001b[1;32mimport\u001b[0m \u001b[0mpandas\u001b[0m \u001b[1;32mas\u001b[0m \u001b[0mpd\u001b[0m\u001b[1;33m\u001b[0m\u001b[1;33m\u001b[0m\u001b[0m\n\u001b[1;32m----> 3\u001b[1;33m \u001b[1;32mimport\u001b[0m \u001b[0mhvplot\u001b[0m\u001b[1;33m.\u001b[0m\u001b[0mpandas\u001b[0m\u001b[1;33m\u001b[0m\u001b[1;33m\u001b[0m\u001b[0m\n\u001b[0m\u001b[0;32m      4\u001b[0m \u001b[1;32mfrom\u001b[0m \u001b[0mpathlib\u001b[0m \u001b[1;32mimport\u001b[0m \u001b[0mPath\u001b[0m\u001b[1;33m\u001b[0m\u001b[1;33m\u001b[0m\u001b[0m\n",
      "\u001b[1;31mModuleNotFoundError\u001b[0m: No module named 'hvplot'"
     ]
    }
   ],
   "source": [
    "# Import the required libraries and dependencies\n",
    "import pandas as pd\n",
    "import hvplot.pandas\n",
    "from pathlib import Path"
   ]
  },
  {
   "cell_type": "markdown",
   "metadata": {},
   "source": [
    "## Step 1: Prepare the Regional Revenue DataFrame"
   ]
  },
  {
   "cell_type": "code",
   "execution_count": null,
   "metadata": {},
   "outputs": [],
   "source": [
    "# Read in regional_revenue.csv file into a Pandas DataFrame\n",
    "regional_revenue_df = pd.read_csv(Path(\"../Resources/regional_revenue.csv\"))\n",
    "\n",
    "# Review the DataFrame\n",
    "regional_revenue_df.head()"
   ]
  },
  {
   "cell_type": "markdown",
   "metadata": {},
   "source": [
    "## Step 2: Create a plot that visualizes the growth in revenue for the United States and Canada"
   ]
  },
  {
   "cell_type": "code",
   "execution_count": null,
   "metadata": {},
   "outputs": [],
   "source": [
    "# Create a DataFrame that slices the subscriber data for the United States and Canada\n",
    "us_canada_revenue = regional_revenue_df.loc[regional_revenue_df['Area'] == 'United States and Canada']\n",
    "\n",
    "# Set the index of the DataFrame to Years\n",
    "us_canada_revenue = us_canada_revenue.set_index('Years')\n",
    "\n",
    "# Create a line plot of the US and Canada Revenue data\n",
    "us_canada_revenue['Revenue'].hvplot()\n"
   ]
  },
  {
   "cell_type": "markdown",
   "metadata": {},
   "source": [
    "## Step 3: Add x- and y-axis labels to your plot. Rotate the x-axis plot ticks 45 degrees."
   ]
  },
  {
   "cell_type": "code",
   "execution_count": null,
   "metadata": {},
   "outputs": [],
   "source": [
    "# Rotate the x-axis ticks by 45 degrees and add x- and y-axis labels to the plot\n",
    "us_canada_revenue['Revenue'].hvplot(\n",
    "    xlabel=\"Revenue Periods\",\n",
    "    ylabel=\"Revenue\", \n",
    "    rot=45\n",
    ")"
   ]
  },
  {
   "cell_type": "markdown",
   "metadata": {},
   "source": [
    "## Step 4:  Add a title to the US and Canada revenue plot\n"
   ]
  },
  {
   "cell_type": "code",
   "execution_count": null,
   "metadata": {},
   "outputs": [],
   "source": [
    "# Add a title to your US and Canada revenue plot using the label parameter\n",
    "us_canada_revenue['Revenue'].hvplot(\n",
    "    xlabel=\"Revenue Periods\",\n",
    "    ylabel=\"Revenue\", \n",
    "    rot=45,\n",
    "    label=\"United States and Canada Revenue - Q1 2018 through Q2 2020\"\n",
    ")\n"
   ]
  },
  {
   "cell_type": "markdown",
   "metadata": {},
   "source": [
    "## Step 5: Use the yformatter option to format the y-axis values."
   ]
  },
  {
   "cell_type": "code",
   "execution_count": null,
   "metadata": {},
   "outputs": [],
   "source": [
    "# Use the yformatter to adjust the y-axis values\n",
    "us_canada_revenue['Revenue'].hvplot(\n",
    "    xlabel='Revenue Periods',\n",
    "    ylabel='Revenue', \n",
    "    rot=45,\n",
    "    label='United States and Canada Revenue - Q1 2018 through Q2 2020'\n",
    ").opts(\n",
    "    yformatter='%.0f'\n",
    ")"
   ]
  },
  {
   "cell_type": "markdown",
   "metadata": {},
   "source": [
    "## Step 6: Add a line_color of blue and hover_line_color of yellow to the plot."
   ]
  },
  {
   "cell_type": "code",
   "execution_count": null,
   "metadata": {},
   "outputs": [],
   "source": [
    "# Add a line_color of blue and a hover_line_color of yellow\n",
    "us_canada_revenue['Revenue'].hvplot(\n",
    "    xlabel='Revenue Periods',\n",
    "    ylabel='Revenue', \n",
    "    rot=45,\n",
    "    label='United States and Canada Revenue - Q1 2018 through Q2 2020'\n",
    ").opts(\n",
    "    yformatter='%.0f', \n",
    "    line_color=\"blue\", \n",
    "    hover_line_color=\"yellow\"\n",
    ")"
   ]
  },
  {
   "cell_type": "markdown",
   "metadata": {},
   "source": [
    "## Step 7. Save the plot you just created to a variable so that it can eventually be utilized in an overlay plot."
   ]
  },
  {
   "cell_type": "code",
   "execution_count": null,
   "metadata": {},
   "outputs": [],
   "source": [
    "# Save the US and Canada revenue plot to a variable\n",
    "us_canada_plot = us_canada_revenue['Revenue'].hvplot(\n",
    "    xlabel='Revenue Periods',\n",
    "    ylabel='Revenue', \n",
    "    rot=45,\n",
    "    label='United States and Canada Revenue - Q1 2018 through Q2 2020',\n",
    ").opts(\n",
    "    yformatter='%.0f', \n",
    "    line_color=\"blue\", \n",
    "    hover_line_color=\"yellow\"\n",
    ")  \n",
    "\n",
    "# Show the plot\n",
    "us_canada_plot"
   ]
  },
  {
   "cell_type": "markdown",
   "metadata": {},
   "source": [
    "## Step 8: Create a line plot that visualizes the growth in revenue for the Europe, Middle East and Africa region. Style it with the same options utilized in the first plot. However, make the line_color equal to orange. Be sure to save this plot to a variable as well."
   ]
  },
  {
   "cell_type": "code",
   "execution_count": null,
   "metadata": {},
   "outputs": [],
   "source": [
    "# Create a DataFrame that slices the subscriber data for the Europe, Middle East and Africa\n",
    "emea_revenue = regional_revenue_df.loc[regional_revenue_df['Area'] == 'Europe, Middle East and Africa']\n",
    "\n",
    "# Set the index of the DataFrame to Years\n",
    "emea_revenue = emea_revenue.set_index('Years')\n"
   ]
  },
  {
   "cell_type": "code",
   "execution_count": null,
   "metadata": {},
   "outputs": [],
   "source": [
    "# Create a styled line plot for the Europe, Middle East Africa region. \n",
    "# Make the line_color orange and be sure to set the plot equal to a variable. \n",
    "emea_plot = emea_revenue['Revenue'].hvplot(\n",
    "    xlabel='Revenue Periods',\n",
    "    ylabel='Revenue', \n",
    "    rot=45,\n",
    "    label='Europe, Middle East and Africa - Q1 2018 through Q2 2020'\n",
    ").opts(\n",
    "    yformatter='%.0f', \n",
    "    line_color=\"orange\", \n",
    "    hover_line_color=\"yellow\"\n",
    ")  \n",
    "\n",
    "# Show the plot\n",
    "emea_plot"
   ]
  },
  {
   "cell_type": "markdown",
   "metadata": {},
   "source": [
    "## Step 9: Create an overlay plot for the \"United States and Canada\" and the \"Europe, Middle East and Africa\" regions."
   ]
  },
  {
   "cell_type": "code",
   "execution_count": null,
   "metadata": {},
   "outputs": [],
   "source": [
    "# Create an overlay plot for the two visualizations\n",
    "us_canada_plot * emea_plot"
   ]
  },
  {
   "cell_type": "markdown",
   "metadata": {},
   "source": [
    "## Step 10: Add a title to the overlay plot. Additionally, adjust height, width and background color."
   ]
  },
  {
   "cell_type": "code",
   "execution_count": null,
   "metadata": {},
   "outputs": [],
   "source": [
    "# Adjust the title, height, width and background color of the overlay plot\n",
    "(us_canada_plot * emea_plot).opts(\n",
    "    title=\"Revenue - US and Canada versus Europe, Middle East and Africa\",\n",
    "    bgcolor=\"lightgrey\", \n",
    "    height=500,\n",
    "    width=1000,\n",
    ")"
   ]
  },
  {
   "cell_type": "markdown",
   "metadata": {},
   "source": [
    "## Step 11: Bonus - Create line plots for the Latin America and Asia Pacific Regions"
   ]
  },
  {
   "cell_type": "code",
   "execution_count": null,
   "metadata": {},
   "outputs": [],
   "source": [
    "# Create a DataFrame that slices the subscriber data for the Asia-Pacific region\n",
    "ap_revenue = regional_revenue_df.loc[regional_revenue_df['Area'] == 'Asia-Pacific']\n",
    "\n",
    "# Set the index of the DataFrame to Years\n",
    "ap_revenue = ap_revenue.set_index('Years')"
   ]
  },
  {
   "cell_type": "code",
   "execution_count": null,
   "metadata": {},
   "outputs": [],
   "source": [
    "# Create a styled line plot for the Asia-Pacific region. \n",
    "# Make the line_color orange and be sure to set the plot equal to a variable. \n",
    "ap_plot = ap_revenue['Revenue'].hvplot(\n",
    "    xlabel='Revenue Periods',\n",
    "    ylabel='Revenue', \n",
    "    rot=45,\n",
    "    label='Asia-Pacific - Q1 2018 through Q2 2020',\n",
    ").opts(\n",
    "    yformatter='%.0f', \n",
    "    line_color=\"purple\", \n",
    "    hover_line_color=\"yellow\"\n",
    ")  \n",
    "\n",
    "# Show the plot\n",
    "ap_plot"
   ]
  },
  {
   "cell_type": "code",
   "execution_count": null,
   "metadata": {},
   "outputs": [],
   "source": [
    "# Create a DataFrame that slices the subscriber data for the Latin America region\n",
    "lam_revenue = regional_revenue_df.loc[regional_revenue_df['Area'] == 'Latin America']\n",
    "\n",
    "# Set the index of the DataFrame to Years\n",
    "lam_revenue = lam_revenue.set_index('Years')"
   ]
  },
  {
   "cell_type": "code",
   "execution_count": null,
   "metadata": {},
   "outputs": [],
   "source": [
    "# Create a styled line plot for the Latin America region. \n",
    "# Make the line_color orange and be sure to set the plot equal to a variable. \n",
    "lam_plot = lam_revenue['Revenue'].hvplot(\n",
    "    xlabel='Revenue Periods',\n",
    "    ylabel='Revenue', \n",
    "    rot=45,\n",
    "    label='Latin America - Q1 2018 through Q2 2020',\n",
    ").opts(\n",
    "    yformatter='%.0f', \n",
    "    line_color=\"fuchsia\", \n",
    "    hover_line_color=\"yellow\"\n",
    ")  \n",
    "\n",
    "# Show the plot\n",
    "lam_plot"
   ]
  },
  {
   "cell_type": "code",
   "execution_count": null,
   "metadata": {},
   "outputs": [],
   "source": [
    "# Create a compose plot for all four regions\n",
    "(us_canada_plot * emea_plot * ap_plot * lam_plot).opts(\n",
    "    title=\"Regional Revenue Growth - Q1 2018 through Q2 2020\",\n",
    "    bgcolor=\"lightgrey\", \n",
    "    height=500,\n",
    "    width=1000,\n",
    ")"
   ]
  },
  {
   "cell_type": "code",
   "execution_count": null,
   "metadata": {},
   "outputs": [],
   "source": []
  }
 ],
 "metadata": {
  "kernelspec": {
   "display_name": "Python 3 (ipykernel)",
   "language": "python",
   "name": "python3"
  },
  "language_info": {
   "codemirror_mode": {
    "name": "ipython",
    "version": 3
   },
   "file_extension": ".py",
   "mimetype": "text/x-python",
   "name": "python",
   "nbconvert_exporter": "python",
   "pygments_lexer": "ipython3",
   "version": "3.9.7"
  }
 },
 "nbformat": 4,
 "nbformat_minor": 4
}
