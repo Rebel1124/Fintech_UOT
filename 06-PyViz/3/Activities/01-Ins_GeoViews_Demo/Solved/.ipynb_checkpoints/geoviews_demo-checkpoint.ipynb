{
 "cells": [
  {
   "cell_type": "markdown",
   "metadata": {},
   "source": [
    "# GeoViews Demo"
   ]
  },
  {
   "cell_type": "markdown",
   "metadata": {},
   "source": [
    "## Import the required libraries and dependencies"
   ]
  },
  {
   "cell_type": "code",
   "execution_count": null,
   "metadata": {},
   "outputs": [],
   "source": [
    "import pandas as pd\n",
    "import os\n",
    "from pathlib import Path\n",
    "import hvplot.pandas"
   ]
  },
  {
   "cell_type": "markdown",
   "metadata": {},
   "source": [
    "### Prepare the DataFrame"
   ]
  },
  {
   "cell_type": "code",
   "execution_count": null,
   "metadata": {},
   "outputs": [],
   "source": [
    "# Read in the population_counts.csv file into a DataFrame\n",
    "population_df = pd.read_csv(\n",
    "    Path(\"../Resources/population_counts.csv\")\n",
    ").drop_duplicates()\n",
    "\n",
    "# Review the DataFrame\n",
    "display(population_df.head())\n",
    "display(population_df.tail())\n"
   ]
  },
  {
   "cell_type": "code",
   "execution_count": null,
   "metadata": {},
   "outputs": [],
   "source": [
    "# Filter the DataFrame to include only New York state data\n",
    "ny_data = population_df[population_df[\"StateDesc\"] == \"New York\"]\n",
    "\n",
    "# Review the DataFrame\n",
    "display(ny_data.head())\n",
    "display(ny_data.tail())\n"
   ]
  },
  {
   "cell_type": "code",
   "execution_count": null,
   "metadata": {},
   "outputs": [],
   "source": [
    "# Create a DataFrame consisting of the CityName, PopulationCount, Latitude and Longitude columns\n",
    "ny_plot_df = ny_data[[\"CityName\", \"PopulationCount\", \"Latitude\", \"Longitude\"]]\n",
    "\n",
    "# Review the DataFrame\n",
    "ny_plot_df.head()"
   ]
  },
  {
   "cell_type": "code",
   "execution_count": null,
   "metadata": {},
   "outputs": [],
   "source": [
    "# Group the DataFrame by CityName and sum PopulationCount\n",
    "ny_plot_df.groupby('CityName').PopulationCount.sum()"
   ]
  },
  {
   "cell_type": "markdown",
   "metadata": {},
   "source": [
    "### Plot data"
   ]
  },
  {
   "cell_type": "code",
   "execution_count": null,
   "metadata": {},
   "outputs": [],
   "source": [
    "# Plot the data using hvPlot and Geoviews\n",
    "map_plot = ny_plot_df.hvplot.points(\n",
    "    'Longitude', \n",
    "    'Latitude', \n",
    "    geo=True, \n",
    "    size = 'PopulationCount',\n",
    "    scale = .02,\n",
    "    color='CityName',\n",
    "    alpha=0.8,\n",
    "    tiles='OSM',\n",
    "    frame_width = 700,\n",
    "    frame_height = 500\n",
    "    )\n",
    "\n",
    "map_plot"
   ]
  },
  {
   "cell_type": "code",
   "execution_count": null,
   "metadata": {},
   "outputs": [],
   "source": []
  }
 ],
 "metadata": {
  "interpreter": {
   "hash": "c08ef54acedf55283727818821e6cad13b90e1509816e8829f32316914210708"
  },
  "kernelspec": {
   "display_name": "Python 3 (ipykernel)",
   "language": "python",
   "name": "python3"
  },
  "language_info": {
   "codemirror_mode": {
    "name": "ipython",
    "version": 3
   },
   "file_extension": ".py",
   "mimetype": "text/x-python",
   "name": "python",
   "nbconvert_exporter": "python",
   "pygments_lexer": "ipython3",
   "version": "3.9.7"
  }
 },
 "nbformat": 4,
 "nbformat_minor": 4
}
